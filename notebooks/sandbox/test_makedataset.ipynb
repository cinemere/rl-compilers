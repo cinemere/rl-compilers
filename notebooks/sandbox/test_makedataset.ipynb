{
 "cells": [
  {
   "cell_type": "code",
   "execution_count": 1,
   "metadata": {},
   "outputs": [],
   "source": [
    "import compiler_gym"
   ]
  },
  {
   "cell_type": "code",
   "execution_count": null,
   "metadata": {},
   "outputs": [],
   "source": []
  },
  {
   "cell_type": "code",
   "execution_count": null,
   "metadata": {},
   "outputs": [],
   "source": [
    "env = compiler_gym.download()"
   ]
  },
  {
   "cell_type": "code",
   "execution_count": 2,
   "metadata": {},
   "outputs": [],
   "source": [
    "env = compiler_gym.make(\"llvm-ic-v0\")"
   ]
  },
  {
   "cell_type": "code",
   "execution_count": 5,
   "metadata": {},
   "outputs": [
    {
     "data": {
      "text/plain": [
       "{'benchmark://anghabench-v1',\n",
       " 'benchmark://blas-v0',\n",
       " 'benchmark://cbench-v1',\n",
       " 'benchmark://chstone-v0',\n",
       " 'benchmark://clgen-v0',\n",
       " 'benchmark://github-v0',\n",
       " 'benchmark://jotaibench-v0',\n",
       " 'benchmark://linux-v0',\n",
       " 'benchmark://mibench-v1',\n",
       " 'benchmark://npb-v0',\n",
       " 'benchmark://opencv-v0',\n",
       " 'benchmark://poj104-v1',\n",
       " 'benchmark://tensorflow-v0',\n",
       " 'generator://csmith-v0',\n",
       " 'generator://llvm-stress-v0'}"
      ]
     },
     "execution_count": 5,
     "metadata": {},
     "output_type": "execute_result"
    }
   ],
   "source": [
    "env.datasets._visible_datasets"
   ]
  },
  {
   "cell_type": "code",
   "execution_count": 11,
   "metadata": {},
   "outputs": [
    {
     "data": {
      "text/plain": [
       "[benchmark://anghabench-v1,\n",
       " benchmark://anghabench-v0,\n",
       " benchmark://jotaibench-v0,\n",
       " benchmark://blas-v0,\n",
       " benchmark://clgen-v0,\n",
       " benchmark://cbench-v1,\n",
       " benchmark://cBench-v1,\n",
       " benchmark://cBench-v0,\n",
       " benchmark://chstone-v0,\n",
       " generator://csmith-v0,\n",
       " benchmark://github-v0,\n",
       " benchmark://linux-v0,\n",
       " generator://llvm-stress-v0,\n",
       " benchmark://mibench-v1,\n",
       " benchmark://mibench-v0,\n",
       " benchmark://npb-v0,\n",
       " benchmark://opencv-v0,\n",
       " benchmark://poj104-v1,\n",
       " benchmark://poj104-v0,\n",
       " benchmark://tensorflow-v0]"
      ]
     },
     "execution_count": 11,
     "metadata": {},
     "output_type": "execute_result"
    }
   ],
   "source": [
    "list(compiler_gym.envs.llvm.datasets.get_llvm_datasets())"
   ]
  },
  {
   "cell_type": "code",
   "execution_count": 16,
   "metadata": {},
   "outputs": [],
   "source": [
    "env.reset(\"benchmark://linux-v0/1\")"
   ]
  },
  {
   "cell_type": "code",
   "execution_count": 15,
   "metadata": {},
   "outputs": [],
   "source": [
    "env.reset(\"benchmark://github-v0/1\")"
   ]
  },
  {
   "cell_type": "code",
   "execution_count": 8,
   "metadata": {},
   "outputs": [],
   "source": [
    "import os\n",
    "\n",
    "path = \"/home/cinemere/work/repo/rl-compiler/datasets/linux-v0/\"\n",
    "files = [os.path.join(path, file) for file in os.listdir(path)]"
   ]
  },
  {
   "cell_type": "code",
   "execution_count": 9,
   "metadata": {},
   "outputs": [
    {
     "data": {
      "text/plain": [
       "['/home/cinemere/work/repo/rl-compiler/datasets/linux-v0/11695.bc',\n",
       " '/home/cinemere/work/repo/rl-compiler/datasets/linux-v0/8774.bc',\n",
       " '/home/cinemere/work/repo/rl-compiler/datasets/linux-v0/7492.bc']"
      ]
     },
     "execution_count": 9,
     "metadata": {},
     "output_type": "execute_result"
    }
   ],
   "source": [
    "files[:3]"
   ]
  },
  {
   "cell_type": "code",
   "execution_count": 11,
   "metadata": {},
   "outputs": [
    {
     "ename": "BenchmarkInitError",
     "evalue": "Failed to link LLVM bitcodes with error: error: Linking globals named 'main': symbol multiply defined!\n",
     "output_type": "error",
     "traceback": [
      "\u001b[0;31m---------------------------------------------------------------------------\u001b[0m",
      "\u001b[0;31mBenchmarkInitError\u001b[0m                        Traceback (most recent call last)",
      "Cell \u001b[0;32mIn[11], line 3\u001b[0m\n\u001b[1;32m      1\u001b[0m \u001b[38;5;28;01mfrom\u001b[39;00m \u001b[38;5;21;01mcompiler_gym\u001b[39;00m\u001b[38;5;21;01m.\u001b[39;00m\u001b[38;5;21;01menvs\u001b[39;00m\u001b[38;5;21;01m.\u001b[39;00m\u001b[38;5;21;01mllvm\u001b[39;00m \u001b[38;5;28;01mimport\u001b[39;00m make_benchmark\n\u001b[0;32m----> 3\u001b[0m benchmark \u001b[38;5;241m=\u001b[39m \u001b[43mmake_benchmark\u001b[49m\u001b[43m(\u001b[49m\u001b[43mfiles\u001b[49m\u001b[43m)\u001b[49m\n",
      "File \u001b[0;32m~/anaconda3/envs/compiler_gym/lib/python3.10/site-packages/compiler_gym/envs/llvm/llvm_benchmark.py:418\u001b[0m, in \u001b[0;36mmake_benchmark\u001b[0;34m(inputs, copt, system_includes, timeout)\u001b[0m\n\u001b[1;32m    416\u001b[0m             bitcode, stderr \u001b[38;5;241m=\u001b[39m llvm_link\u001b[38;5;241m.\u001b[39mcommunicate(timeout\u001b[38;5;241m=\u001b[39mtimeout)\n\u001b[1;32m    417\u001b[0m             \u001b[38;5;28;01mif\u001b[39;00m llvm_link\u001b[38;5;241m.\u001b[39mreturncode:\n\u001b[0;32m--> 418\u001b[0m                 \u001b[38;5;28;01mraise\u001b[39;00m BenchmarkInitError(\n\u001b[1;32m    419\u001b[0m                     \u001b[38;5;124mf\u001b[39m\u001b[38;5;124m\"\u001b[39m\u001b[38;5;124mFailed to link LLVM bitcodes with error: \u001b[39m\u001b[38;5;132;01m{\u001b[39;00mstderr\u001b[38;5;241m.\u001b[39mdecode(\u001b[38;5;124m'\u001b[39m\u001b[38;5;124mutf-8\u001b[39m\u001b[38;5;124m'\u001b[39m)\u001b[38;5;132;01m}\u001b[39;00m\u001b[38;5;124m\"\u001b[39m\n\u001b[1;32m    420\u001b[0m                 )\n\u001b[1;32m    422\u001b[0m timestamp \u001b[38;5;241m=\u001b[39m datetime\u001b[38;5;241m.\u001b[39mnow()\u001b[38;5;241m.\u001b[39mstrftime(\u001b[38;5;124m\"\u001b[39m\u001b[38;5;124m%\u001b[39m\u001b[38;5;124mY\u001b[39m\u001b[38;5;124m%\u001b[39m\u001b[38;5;124mm\u001b[39m\u001b[38;5;124m%\u001b[39m\u001b[38;5;124mHT\u001b[39m\u001b[38;5;124m%\u001b[39m\u001b[38;5;124mH\u001b[39m\u001b[38;5;124m%\u001b[39m\u001b[38;5;124mM\u001b[39m\u001b[38;5;124m%\u001b[39m\u001b[38;5;124mS\u001b[39m\u001b[38;5;124m\"\u001b[39m)\n\u001b[1;32m    423\u001b[0m uri \u001b[38;5;241m=\u001b[39m \u001b[38;5;124mf\u001b[39m\u001b[38;5;124m\"\u001b[39m\u001b[38;5;124mbenchmark://user-v0/\u001b[39m\u001b[38;5;132;01m{\u001b[39;00mtimestamp\u001b[38;5;132;01m}\u001b[39;00m\u001b[38;5;124m-\u001b[39m\u001b[38;5;132;01m{\u001b[39;00mrandom\u001b[38;5;241m.\u001b[39mrandrange(\u001b[38;5;241m16\u001b[39m\u001b[38;5;241m*\u001b[39m\u001b[38;5;241m*\u001b[39m\u001b[38;5;241m4\u001b[39m)\u001b[38;5;132;01m:\u001b[39;00m\u001b[38;5;124m04x\u001b[39m\u001b[38;5;132;01m}\u001b[39;00m\u001b[38;5;124m\"\u001b[39m\n",
      "\u001b[0;31mBenchmarkInitError\u001b[0m: Failed to link LLVM bitcodes with error: error: Linking globals named 'main': symbol multiply defined!\n"
     ]
    }
   ],
   "source": [
    "from compiler_gym.envs.llvm import make_benchmark\n",
    "\n",
    "benchmark = make_benchmark(files)"
   ]
  },
  {
   "cell_type": "code",
   "execution_count": 16,
   "metadata": {},
   "outputs": [
    {
     "data": {
      "text/plain": [
       "{'_datasets': {'benchmark://anghabench-v1': benchmark://anghabench-v1,\n",
       "  'benchmark://anghabench-v0': benchmark://anghabench-v0,\n",
       "  'benchmark://jotaibench-v0': benchmark://jotaibench-v0,\n",
       "  'benchmark://blas-v0': benchmark://blas-v0,\n",
       "  'benchmark://clgen-v0': benchmark://clgen-v0,\n",
       "  'benchmark://cbench-v1': benchmark://cbench-v1,\n",
       "  'benchmark://cBench-v1': benchmark://cBench-v1,\n",
       "  'benchmark://cBench-v0': benchmark://cBench-v0,\n",
       "  'benchmark://chstone-v0': benchmark://chstone-v0,\n",
       "  'generator://csmith-v0': generator://csmith-v0,\n",
       "  'benchmark://github-v0': benchmark://github-v0,\n",
       "  'benchmark://linux-v0': benchmark://linux-v0,\n",
       "  'generator://llvm-stress-v0': generator://llvm-stress-v0,\n",
       "  'benchmark://mibench-v1': benchmark://mibench-v1,\n",
       "  'benchmark://mibench-v0': benchmark://mibench-v0,\n",
       "  'benchmark://npb-v0': benchmark://npb-v0,\n",
       "  'benchmark://opencv-v0': benchmark://opencv-v0,\n",
       "  'benchmark://poj104-v1': benchmark://poj104-v1,\n",
       "  'benchmark://poj104-v0': benchmark://poj104-v0,\n",
       "  'benchmark://tensorflow-v0': benchmark://tensorflow-v0},\n",
       " '_visible_datasets': {'benchmark://anghabench-v1',\n",
       "  'benchmark://blas-v0',\n",
       "  'benchmark://cbench-v1',\n",
       "  'benchmark://chstone-v0',\n",
       "  'benchmark://clgen-v0',\n",
       "  'benchmark://github-v0',\n",
       "  'benchmark://jotaibench-v0',\n",
       "  'benchmark://linux-v0',\n",
       "  'benchmark://mibench-v1',\n",
       "  'benchmark://npb-v0',\n",
       "  'benchmark://opencv-v0',\n",
       "  'benchmark://poj104-v1',\n",
       "  'benchmark://tensorflow-v0',\n",
       "  'generator://csmith-v0',\n",
       "  'generator://llvm-stress-v0'}}"
      ]
     },
     "execution_count": 16,
     "metadata": {},
     "output_type": "execute_result"
    }
   ],
   "source": [
    "env.datasets.__dict__"
   ]
  },
  {
   "cell_type": "code",
   "execution_count": null,
   "metadata": {},
   "outputs": [],
   "source": [
    "from compiler_gym.datasets import TarDatasetWithManifest\n",
    "\n",
    "mydataset = TarDatasetWithManifest(\n",
    "    manifest_compression=\"/home/cinemere/work/repo/rl-compiler/datasets/llvm_bitcodes-10.0.0-linux-v0-linux-manifest.bz2\",\n",
    "    \n",
    ")"
   ]
  },
  {
   "cell_type": "code",
   "execution_count": 19,
   "metadata": {},
   "outputs": [
    {
     "ename": "TypeError",
     "evalue": "cache_path() missing 1 required positional argument: 'relpath'",
     "output_type": "error",
     "traceback": [
      "\u001b[0;31m---------------------------------------------------------------------------\u001b[0m",
      "\u001b[0;31mTypeError\u001b[0m                                 Traceback (most recent call last)",
      "Cell \u001b[0;32mIn[19], line 1\u001b[0m\n\u001b[0;32m----> 1\u001b[0m \u001b[43mcompiler_gym\u001b[49m\u001b[38;5;241;43m.\u001b[39;49m\u001b[43mcache_path\u001b[49m\u001b[43m(\u001b[49m\u001b[43m)\u001b[49m\n",
      "\u001b[0;31mTypeError\u001b[0m: cache_path() missing 1 required positional argument: 'relpath'"
     ]
    }
   ],
   "source": [
    "compiler_gym.cache_path()"
   ]
  },
  {
   "cell_type": "code",
   "execution_count": 21,
   "metadata": {},
   "outputs": [],
   "source": [
    "import os\n",
    "os.environ.get(\"COMPILER_GYM_CACHE\")"
   ]
  },
  {
   "cell_type": "code",
   "execution_count": 17,
   "metadata": {},
   "outputs": [
    {
     "name": "stderr",
     "output_type": "stream",
     "text": [
      "TimeoutError Failed to connect to localhost:8080 after 3.0 seconds (attempt 1)\n",
      "TimeoutError Failed to connect to localhost:8080 after 3.0 seconds (attempt 2)\n",
      "TimeoutError Failed to connect to localhost:8080 after 3.0 seconds (attempt 3)\n",
      "TimeoutError Failed to connect to localhost:8080 after 3.0 seconds (attempt 4)\n",
      "TimeoutError Failed to connect to localhost:8080 after 3.0 seconds (attempt 5)\n"
     ]
    },
    {
     "ename": "ServiceError",
     "evalue": "Failed to create connection to localhost:8080 after 16.2 seconds (5 attempts made).\nLast error (TimeoutError): Failed to connect to localhost:8080 after 3.0 seconds",
     "output_type": "error",
     "traceback": [
      "\u001b[0;31m---------------------------------------------------------------------------\u001b[0m",
      "\u001b[0;31mServiceError\u001b[0m                              Traceback (most recent call last)",
      "Cell \u001b[0;32mIn[17], line 3\u001b[0m\n\u001b[1;32m      1\u001b[0m \u001b[38;5;28;01mfrom\u001b[39;00m \u001b[38;5;21;01mcompiler_gym\u001b[39;00m\u001b[38;5;21;01m.\u001b[39;00m\u001b[38;5;21;01mservice\u001b[39;00m\u001b[38;5;21;01m.\u001b[39;00m\u001b[38;5;21;01mclient_service_compiler_env\u001b[39;00m \u001b[38;5;28;01mimport\u001b[39;00m ClientServiceCompilerEnv\n\u001b[0;32m----> 3\u001b[0m env \u001b[38;5;241m=\u001b[39m \u001b[43mClientServiceCompilerEnv\u001b[49m\u001b[43m(\u001b[49m\n\u001b[1;32m      4\u001b[0m \u001b[43m    \u001b[49m\u001b[43mservice\u001b[49m\u001b[38;5;241;43m=\u001b[39;49m\u001b[38;5;124;43m\"\u001b[39;49m\u001b[38;5;124;43mlocalhost:8080\u001b[39;49m\u001b[38;5;124;43m\"\u001b[39;49m\u001b[43m,\u001b[49m\n\u001b[1;32m      5\u001b[0m \u001b[43m    \u001b[49m\u001b[43mobservation_space\u001b[49m\u001b[38;5;241;43m=\u001b[39;49m\u001b[38;5;124;43m\"\u001b[39;49m\u001b[38;5;124;43mfeatures\u001b[39;49m\u001b[38;5;124;43m\"\u001b[39;49m\u001b[43m,\u001b[49m\n\u001b[1;32m      6\u001b[0m \u001b[43m    \u001b[49m\u001b[43mreward_space\u001b[49m\u001b[38;5;241;43m=\u001b[39;49m\u001b[38;5;124;43m\"\u001b[39;49m\u001b[38;5;124;43mruntime\u001b[39;49m\u001b[38;5;124;43m\"\u001b[39;49m\u001b[43m,\u001b[49m\n\u001b[1;32m      7\u001b[0m \u001b[43m    \u001b[49m\u001b[43mrewards\u001b[49m\u001b[38;5;241;43m=\u001b[39;49m\u001b[43m[\u001b[49m\u001b[38;5;124;43m\"\u001b[39;49m\u001b[38;5;124;43mIrInstructionCount\u001b[39;49m\u001b[38;5;124;43m\"\u001b[39;49m\u001b[43m]\u001b[49m\u001b[43m,\u001b[49m\n\u001b[1;32m      8\u001b[0m \u001b[43m)\u001b[49m\n",
      "File \u001b[0;32m~/anaconda3/envs/compiler_gym/lib/python3.10/site-packages/compiler_gym/service/client_service_compiler_env.py:207\u001b[0m, in \u001b[0;36mClientServiceCompilerEnv.__init__\u001b[0;34m(self, service, rewards, datasets, benchmark, observation_space, reward_space, action_space, derived_observation_spaces, service_message_converters, connection_settings, service_connection)\u001b[0m\n\u001b[1;32m    204\u001b[0m \u001b[38;5;28mself\u001b[39m\u001b[38;5;241m.\u001b[39m_connection_settings \u001b[38;5;241m=\u001b[39m connection_settings \u001b[38;5;129;01mor\u001b[39;00m ConnectionOpts()\n\u001b[1;32m    205\u001b[0m \u001b[38;5;28mself\u001b[39m\u001b[38;5;241m.\u001b[39m_params_to_send_on_reset: List[SessionParameter] \u001b[38;5;241m=\u001b[39m []\n\u001b[0;32m--> 207\u001b[0m \u001b[38;5;28mself\u001b[39m\u001b[38;5;241m.\u001b[39mservice \u001b[38;5;241m=\u001b[39m service_connection \u001b[38;5;129;01mor\u001b[39;00m \u001b[43mCompilerGymServiceConnection\u001b[49m\u001b[43m(\u001b[49m\n\u001b[1;32m    208\u001b[0m \u001b[43m    \u001b[49m\u001b[43mendpoint\u001b[49m\u001b[38;5;241;43m=\u001b[39;49m\u001b[38;5;28;43mself\u001b[39;49m\u001b[38;5;241;43m.\u001b[39;49m\u001b[43m_service_endpoint\u001b[49m\u001b[43m,\u001b[49m\n\u001b[1;32m    209\u001b[0m \u001b[43m    \u001b[49m\u001b[43mopts\u001b[49m\u001b[38;5;241;43m=\u001b[39;49m\u001b[38;5;28;43mself\u001b[39;49m\u001b[38;5;241;43m.\u001b[39;49m\u001b[43m_connection_settings\u001b[49m\u001b[43m,\u001b[49m\n\u001b[1;32m    210\u001b[0m \u001b[43m\u001b[49m\u001b[43m)\u001b[49m\n\u001b[1;32m    211\u001b[0m \u001b[38;5;28mself\u001b[39m\u001b[38;5;241m.\u001b[39m_datasets \u001b[38;5;241m=\u001b[39m Datasets(datasets \u001b[38;5;129;01mor\u001b[39;00m [])\n\u001b[1;32m    213\u001b[0m \u001b[38;5;28mself\u001b[39m\u001b[38;5;241m.\u001b[39maction_space_name \u001b[38;5;241m=\u001b[39m action_space\n",
      "File \u001b[0;32m~/anaconda3/envs/compiler_gym/lib/python3.10/site-packages/compiler_gym/service/connection.py:646\u001b[0m, in \u001b[0;36mCompilerGymServiceConnection.__init__\u001b[0;34m(self, endpoint, opts)\u001b[0m\n\u001b[1;32m    644\u001b[0m \u001b[38;5;28mself\u001b[39m\u001b[38;5;241m.\u001b[39mconnection \u001b[38;5;241m=\u001b[39m \u001b[38;5;28;01mNone\u001b[39;00m\n\u001b[1;32m    645\u001b[0m \u001b[38;5;28mself\u001b[39m\u001b[38;5;241m.\u001b[39mstub \u001b[38;5;241m=\u001b[39m \u001b[38;5;28;01mNone\u001b[39;00m\n\u001b[0;32m--> 646\u001b[0m \u001b[38;5;28;43mself\u001b[39;49m\u001b[38;5;241;43m.\u001b[39;49m\u001b[43m_establish_connection\u001b[49m\u001b[43m(\u001b[49m\u001b[43m)\u001b[49m\n\u001b[1;32m    648\u001b[0m \u001b[38;5;28mself\u001b[39m\u001b[38;5;241m.\u001b[39maction_spaces: List[ActionSpace] \u001b[38;5;241m=\u001b[39m \u001b[38;5;28mlist\u001b[39m(\n\u001b[1;32m    649\u001b[0m     \u001b[38;5;28mself\u001b[39m\u001b[38;5;241m.\u001b[39mconnection\u001b[38;5;241m.\u001b[39mspaces\u001b[38;5;241m.\u001b[39maction_space_list\n\u001b[1;32m    650\u001b[0m )\n\u001b[1;32m    651\u001b[0m \u001b[38;5;28mself\u001b[39m\u001b[38;5;241m.\u001b[39mobservation_spaces: List[ObservationSpace] \u001b[38;5;241m=\u001b[39m \u001b[38;5;28mlist\u001b[39m(\n\u001b[1;32m    652\u001b[0m     \u001b[38;5;28mself\u001b[39m\u001b[38;5;241m.\u001b[39mconnection\u001b[38;5;241m.\u001b[39mspaces\u001b[38;5;241m.\u001b[39mobservation_space_list\n\u001b[1;32m    653\u001b[0m )\n",
      "File \u001b[0;32m~/anaconda3/envs/compiler_gym/lib/python3.10/site-packages/compiler_gym/service/connection.py:657\u001b[0m, in \u001b[0;36mCompilerGymServiceConnection._establish_connection\u001b[0;34m(self)\u001b[0m\n\u001b[1;32m    655\u001b[0m \u001b[38;5;28;01mdef\u001b[39;00m \u001b[38;5;21m_establish_connection\u001b[39m(\u001b[38;5;28mself\u001b[39m) \u001b[38;5;241m-\u001b[39m\u001b[38;5;241m>\u001b[39m \u001b[38;5;28;01mNone\u001b[39;00m:\n\u001b[1;32m    656\u001b[0m \u001b[38;5;250m    \u001b[39m\u001b[38;5;124;03m\"\"\"Create and establish a connection.\"\"\"\u001b[39;00m\n\u001b[0;32m--> 657\u001b[0m     \u001b[38;5;28mself\u001b[39m\u001b[38;5;241m.\u001b[39mconnection \u001b[38;5;241m=\u001b[39m \u001b[38;5;28;43mself\u001b[39;49m\u001b[38;5;241;43m.\u001b[39;49m\u001b[43m_create_connection\u001b[49m\u001b[43m(\u001b[49m\u001b[38;5;28;43mself\u001b[39;49m\u001b[38;5;241;43m.\u001b[39;49m\u001b[43mendpoint\u001b[49m\u001b[43m,\u001b[49m\u001b[43m \u001b[49m\u001b[38;5;28;43mself\u001b[39;49m\u001b[38;5;241;43m.\u001b[39;49m\u001b[43mopts\u001b[49m\u001b[43m)\u001b[49m\n\u001b[1;32m    658\u001b[0m     \u001b[38;5;28mself\u001b[39m\u001b[38;5;241m.\u001b[39mstub \u001b[38;5;241m=\u001b[39m \u001b[38;5;28mself\u001b[39m\u001b[38;5;241m.\u001b[39mconnection\u001b[38;5;241m.\u001b[39mstub\n",
      "File \u001b[0;32m~/anaconda3/envs/compiler_gym/lib/python3.10/site-packages/compiler_gym/service/connection.py:718\u001b[0m, in \u001b[0;36mCompilerGymServiceConnection._create_connection\u001b[0;34m(cls, endpoint, opts)\u001b[0m\n\u001b[1;32m    713\u001b[0m         logger\u001b[38;5;241m.\u001b[39mwarning(\u001b[38;5;124m\"\u001b[39m\u001b[38;5;132;01m%s\u001b[39;00m\u001b[38;5;124m \u001b[39m\u001b[38;5;132;01m%s\u001b[39;00m\u001b[38;5;124m (attempt \u001b[39m\u001b[38;5;132;01m%d\u001b[39;00m\u001b[38;5;124m)\u001b[39m\u001b[38;5;124m\"\u001b[39m, \u001b[38;5;28mtype\u001b[39m(e)\u001b[38;5;241m.\u001b[39m\u001b[38;5;18m__name__\u001b[39m, e, attempts)\n\u001b[1;32m    715\u001b[0m exception_class \u001b[38;5;241m=\u001b[39m (\n\u001b[1;32m    716\u001b[0m     ServiceError \u001b[38;5;28;01mif\u001b[39;00m attempts \u001b[38;5;241m>\u001b[39m\u001b[38;5;241m=\u001b[39m opts\u001b[38;5;241m.\u001b[39minit_max_attempts \u001b[38;5;28;01melse\u001b[39;00m \u001b[38;5;167;01mTimeoutError\u001b[39;00m\n\u001b[1;32m    717\u001b[0m )\n\u001b[0;32m--> 718\u001b[0m \u001b[38;5;28;01mraise\u001b[39;00m exception_class(\n\u001b[1;32m    719\u001b[0m     \u001b[38;5;124mf\u001b[39m\u001b[38;5;124m\"\u001b[39m\u001b[38;5;124mFailed to create connection to \u001b[39m\u001b[38;5;132;01m{\u001b[39;00mendpoint_name\u001b[38;5;132;01m}\u001b[39;00m\u001b[38;5;124m after \u001b[39m\u001b[38;5;124m\"\u001b[39m\n\u001b[1;32m    720\u001b[0m     \u001b[38;5;124mf\u001b[39m\u001b[38;5;124m\"\u001b[39m\u001b[38;5;132;01m{\u001b[39;00mtime()\u001b[38;5;250m \u001b[39m\u001b[38;5;241m-\u001b[39m\u001b[38;5;250m \u001b[39mstart_time\u001b[38;5;132;01m:\u001b[39;00m\u001b[38;5;124m.1f\u001b[39m\u001b[38;5;132;01m}\u001b[39;00m\u001b[38;5;124m seconds \u001b[39m\u001b[38;5;124m\"\u001b[39m\n\u001b[1;32m    721\u001b[0m     \u001b[38;5;124mf\u001b[39m\u001b[38;5;124m\"\u001b[39m\u001b[38;5;124m(\u001b[39m\u001b[38;5;132;01m{\u001b[39;00mattempts\u001b[38;5;132;01m}\u001b[39;00m\u001b[38;5;124m \u001b[39m\u001b[38;5;132;01m{\u001b[39;00mplural(attempts,\u001b[38;5;250m \u001b[39m\u001b[38;5;124m'\u001b[39m\u001b[38;5;124mattempt\u001b[39m\u001b[38;5;124m'\u001b[39m,\u001b[38;5;250m \u001b[39m\u001b[38;5;124m'\u001b[39m\u001b[38;5;124mattempts\u001b[39m\u001b[38;5;124m'\u001b[39m)\u001b[38;5;132;01m}\u001b[39;00m\u001b[38;5;124m made).\u001b[39m\u001b[38;5;130;01m\\n\u001b[39;00m\u001b[38;5;124m\"\u001b[39m\n\u001b[1;32m    722\u001b[0m     \u001b[38;5;124mf\u001b[39m\u001b[38;5;124m\"\u001b[39m\u001b[38;5;124mLast error (\u001b[39m\u001b[38;5;132;01m{\u001b[39;00m\u001b[38;5;28mtype\u001b[39m(last_exception)\u001b[38;5;241m.\u001b[39m\u001b[38;5;18m__name__\u001b[39m\u001b[38;5;132;01m}\u001b[39;00m\u001b[38;5;124m): \u001b[39m\u001b[38;5;132;01m{\u001b[39;00mlast_exception\u001b[38;5;132;01m}\u001b[39;00m\u001b[38;5;124m\"\u001b[39m\n\u001b[1;32m    723\u001b[0m )\n",
      "\u001b[0;31mServiceError\u001b[0m: Failed to create connection to localhost:8080 after 16.2 seconds (5 attempts made).\nLast error (TimeoutError): Failed to connect to localhost:8080 after 3.0 seconds"
     ]
    }
   ],
   "source": [
    "from compiler_gym.service.client_service_compiler_env import ClientServiceCompilerEnv\n",
    "\n",
    "env = ClientServiceCompilerEnv(\n",
    "    service=\"localhost:8080\",\n",
    "    observation_space=\"features\",\n",
    "    reward_space=\"runtime\",\n",
    "    rewards=[\"IrInstructionCount\"],\n",
    ")"
   ]
  },
  {
   "cell_type": "code",
   "execution_count": null,
   "metadata": {},
   "outputs": [],
   "source": []
  },
  {
   "cell_type": "code",
   "execution_count": null,
   "metadata": {},
   "outputs": [],
   "source": []
  }
 ],
 "metadata": {
  "kernelspec": {
   "display_name": "compiler_gym",
   "language": "python",
   "name": "python3"
  },
  "language_info": {
   "codemirror_mode": {
    "name": "ipython",
    "version": 3
   },
   "file_extension": ".py",
   "mimetype": "text/x-python",
   "name": "python",
   "nbconvert_exporter": "python",
   "pygments_lexer": "ipython3",
   "version": "3.10.13"
  }
 },
 "nbformat": 4,
 "nbformat_minor": 2
}
